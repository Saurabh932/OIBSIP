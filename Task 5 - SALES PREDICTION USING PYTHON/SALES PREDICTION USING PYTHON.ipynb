{
 "cells": [
  {
   "cell_type": "code",
   "execution_count": 1,
   "id": "3defd2a3",
   "metadata": {
    "scrolled": true
   },
   "outputs": [
    {
     "name": "stderr",
     "output_type": "stream",
     "text": [
      "C:\\Users\\acer\\AppData\\Local\\Temp\\ipykernel_11924\\2316340264.py:13: DeprecationWarning: `import pandas_profiling` is going to be deprecated by April 1st. Please use `import ydata_profiling` instead.\n",
      "  from pandas_profiling import ProfileReport\n"
     ]
    }
   ],
   "source": [
    "# Importing the dependences\n",
    "\n",
    "import numpy as np\n",
    "import pandas as pd\n",
    "import matplotlib.pyplot as plt\n",
    "import seaborn as sns\n",
    "import pickle\n",
    "from sklearn.model_selection import train_test_split\n",
    "from sklearn.linear_model import LinearRegression\n",
    "from sklearn.model_selection import cross_val_score\n",
    "from sklearn import metrics\n",
    "from scipy import stats\n",
    "from pandas_profiling import ProfileReport\n",
    "from statsmodels.stats.outliers_influence import variance_inflation_factor\n",
    "# from autoviz.classify_method import data_cleaning_suggestions ,data_suggestions\n",
    "from pycaret.regression import *"
   ]
  },
  {
   "cell_type": "code",
   "execution_count": 2,
   "id": "4f81835f",
   "metadata": {},
   "outputs": [
    {
     "data": {
      "text/html": [
       "<div>\n",
       "<style scoped>\n",
       "    .dataframe tbody tr th:only-of-type {\n",
       "        vertical-align: middle;\n",
       "    }\n",
       "\n",
       "    .dataframe tbody tr th {\n",
       "        vertical-align: top;\n",
       "    }\n",
       "\n",
       "    .dataframe thead th {\n",
       "        text-align: right;\n",
       "    }\n",
       "</style>\n",
       "<table border=\"1\" class=\"dataframe\">\n",
       "  <thead>\n",
       "    <tr style=\"text-align: right;\">\n",
       "      <th></th>\n",
       "      <th>Unnamed: 0</th>\n",
       "      <th>TV</th>\n",
       "      <th>Radio</th>\n",
       "      <th>Newspaper</th>\n",
       "      <th>Sales</th>\n",
       "    </tr>\n",
       "  </thead>\n",
       "  <tbody>\n",
       "    <tr>\n",
       "      <th>0</th>\n",
       "      <td>1</td>\n",
       "      <td>230.1</td>\n",
       "      <td>37.8</td>\n",
       "      <td>69.2</td>\n",
       "      <td>22.1</td>\n",
       "    </tr>\n",
       "    <tr>\n",
       "      <th>1</th>\n",
       "      <td>2</td>\n",
       "      <td>44.5</td>\n",
       "      <td>39.3</td>\n",
       "      <td>45.1</td>\n",
       "      <td>10.4</td>\n",
       "    </tr>\n",
       "    <tr>\n",
       "      <th>2</th>\n",
       "      <td>3</td>\n",
       "      <td>17.2</td>\n",
       "      <td>45.9</td>\n",
       "      <td>69.3</td>\n",
       "      <td>9.3</td>\n",
       "    </tr>\n",
       "    <tr>\n",
       "      <th>3</th>\n",
       "      <td>4</td>\n",
       "      <td>151.5</td>\n",
       "      <td>41.3</td>\n",
       "      <td>58.5</td>\n",
       "      <td>18.5</td>\n",
       "    </tr>\n",
       "    <tr>\n",
       "      <th>4</th>\n",
       "      <td>5</td>\n",
       "      <td>180.8</td>\n",
       "      <td>10.8</td>\n",
       "      <td>58.4</td>\n",
       "      <td>12.9</td>\n",
       "    </tr>\n",
       "    <tr>\n",
       "      <th>5</th>\n",
       "      <td>6</td>\n",
       "      <td>8.7</td>\n",
       "      <td>48.9</td>\n",
       "      <td>75.0</td>\n",
       "      <td>7.2</td>\n",
       "    </tr>\n",
       "    <tr>\n",
       "      <th>6</th>\n",
       "      <td>7</td>\n",
       "      <td>57.5</td>\n",
       "      <td>32.8</td>\n",
       "      <td>23.5</td>\n",
       "      <td>11.8</td>\n",
       "    </tr>\n",
       "    <tr>\n",
       "      <th>7</th>\n",
       "      <td>8</td>\n",
       "      <td>120.2</td>\n",
       "      <td>19.6</td>\n",
       "      <td>11.6</td>\n",
       "      <td>13.2</td>\n",
       "    </tr>\n",
       "    <tr>\n",
       "      <th>8</th>\n",
       "      <td>9</td>\n",
       "      <td>8.6</td>\n",
       "      <td>2.1</td>\n",
       "      <td>1.0</td>\n",
       "      <td>4.8</td>\n",
       "    </tr>\n",
       "    <tr>\n",
       "      <th>9</th>\n",
       "      <td>10</td>\n",
       "      <td>199.8</td>\n",
       "      <td>2.6</td>\n",
       "      <td>21.2</td>\n",
       "      <td>10.6</td>\n",
       "    </tr>\n",
       "  </tbody>\n",
       "</table>\n",
       "</div>"
      ],
      "text/plain": [
       "   Unnamed: 0     TV  Radio  Newspaper  Sales\n",
       "0           1  230.1   37.8       69.2   22.1\n",
       "1           2   44.5   39.3       45.1   10.4\n",
       "2           3   17.2   45.9       69.3    9.3\n",
       "3           4  151.5   41.3       58.5   18.5\n",
       "4           5  180.8   10.8       58.4   12.9\n",
       "5           6    8.7   48.9       75.0    7.2\n",
       "6           7   57.5   32.8       23.5   11.8\n",
       "7           8  120.2   19.6       11.6   13.2\n",
       "8           9    8.6    2.1        1.0    4.8\n",
       "9          10  199.8    2.6       21.2   10.6"
      ]
     },
     "execution_count": 2,
     "metadata": {},
     "output_type": "execute_result"
    }
   ],
   "source": [
    "dataset = pd.read_csv(\"Advertising.csv\")\n",
    "dataset.head(10)"
   ]
  },
  {
   "cell_type": "code",
   "execution_count": 3,
   "id": "2fe4f544",
   "metadata": {},
   "outputs": [
    {
     "name": "stdout",
     "output_type": "stream",
     "text": [
      "<class 'pandas.core.frame.DataFrame'>\n",
      "RangeIndex: 200 entries, 0 to 199\n",
      "Data columns (total 5 columns):\n",
      " #   Column      Non-Null Count  Dtype  \n",
      "---  ------      --------------  -----  \n",
      " 0   Unnamed: 0  200 non-null    int64  \n",
      " 1   TV          200 non-null    float64\n",
      " 2   Radio       200 non-null    float64\n",
      " 3   Newspaper   200 non-null    float64\n",
      " 4   Sales       200 non-null    float64\n",
      "dtypes: float64(4), int64(1)\n",
      "memory usage: 7.9 KB\n"
     ]
    }
   ],
   "source": [
    "# Information\n",
    "dataset.info()"
   ]
  },
  {
   "cell_type": "code",
   "execution_count": 4,
   "id": "f3fd8ac9",
   "metadata": {},
   "outputs": [
    {
     "data": {
      "text/html": [
       "<div>\n",
       "<style scoped>\n",
       "    .dataframe tbody tr th:only-of-type {\n",
       "        vertical-align: middle;\n",
       "    }\n",
       "\n",
       "    .dataframe tbody tr th {\n",
       "        vertical-align: top;\n",
       "    }\n",
       "\n",
       "    .dataframe thead th {\n",
       "        text-align: right;\n",
       "    }\n",
       "</style>\n",
       "<table border=\"1\" class=\"dataframe\">\n",
       "  <thead>\n",
       "    <tr style=\"text-align: right;\">\n",
       "      <th></th>\n",
       "      <th>Unnamed: 0</th>\n",
       "      <th>TV</th>\n",
       "      <th>Radio</th>\n",
       "      <th>Newspaper</th>\n",
       "      <th>Sales</th>\n",
       "    </tr>\n",
       "  </thead>\n",
       "  <tbody>\n",
       "    <tr>\n",
       "      <th>count</th>\n",
       "      <td>200.000000</td>\n",
       "      <td>200.000000</td>\n",
       "      <td>200.000000</td>\n",
       "      <td>200.000000</td>\n",
       "      <td>200.000000</td>\n",
       "    </tr>\n",
       "    <tr>\n",
       "      <th>mean</th>\n",
       "      <td>100.500000</td>\n",
       "      <td>147.042500</td>\n",
       "      <td>23.264000</td>\n",
       "      <td>30.554000</td>\n",
       "      <td>14.022500</td>\n",
       "    </tr>\n",
       "    <tr>\n",
       "      <th>std</th>\n",
       "      <td>57.879185</td>\n",
       "      <td>85.854236</td>\n",
       "      <td>14.846809</td>\n",
       "      <td>21.778621</td>\n",
       "      <td>5.217457</td>\n",
       "    </tr>\n",
       "    <tr>\n",
       "      <th>min</th>\n",
       "      <td>1.000000</td>\n",
       "      <td>0.700000</td>\n",
       "      <td>0.000000</td>\n",
       "      <td>0.300000</td>\n",
       "      <td>1.600000</td>\n",
       "    </tr>\n",
       "    <tr>\n",
       "      <th>25%</th>\n",
       "      <td>50.750000</td>\n",
       "      <td>74.375000</td>\n",
       "      <td>9.975000</td>\n",
       "      <td>12.750000</td>\n",
       "      <td>10.375000</td>\n",
       "    </tr>\n",
       "    <tr>\n",
       "      <th>50%</th>\n",
       "      <td>100.500000</td>\n",
       "      <td>149.750000</td>\n",
       "      <td>22.900000</td>\n",
       "      <td>25.750000</td>\n",
       "      <td>12.900000</td>\n",
       "    </tr>\n",
       "    <tr>\n",
       "      <th>75%</th>\n",
       "      <td>150.250000</td>\n",
       "      <td>218.825000</td>\n",
       "      <td>36.525000</td>\n",
       "      <td>45.100000</td>\n",
       "      <td>17.400000</td>\n",
       "    </tr>\n",
       "    <tr>\n",
       "      <th>max</th>\n",
       "      <td>200.000000</td>\n",
       "      <td>296.400000</td>\n",
       "      <td>49.600000</td>\n",
       "      <td>114.000000</td>\n",
       "      <td>27.000000</td>\n",
       "    </tr>\n",
       "  </tbody>\n",
       "</table>\n",
       "</div>"
      ],
      "text/plain": [
       "       Unnamed: 0          TV       Radio   Newspaper       Sales\n",
       "count  200.000000  200.000000  200.000000  200.000000  200.000000\n",
       "mean   100.500000  147.042500   23.264000   30.554000   14.022500\n",
       "std     57.879185   85.854236   14.846809   21.778621    5.217457\n",
       "min      1.000000    0.700000    0.000000    0.300000    1.600000\n",
       "25%     50.750000   74.375000    9.975000   12.750000   10.375000\n",
       "50%    100.500000  149.750000   22.900000   25.750000   12.900000\n",
       "75%    150.250000  218.825000   36.525000   45.100000   17.400000\n",
       "max    200.000000  296.400000   49.600000  114.000000   27.000000"
      ]
     },
     "execution_count": 4,
     "metadata": {},
     "output_type": "execute_result"
    }
   ],
   "source": [
    "# statistical Description\n",
    "dataset.describe()"
   ]
  },
  {
   "cell_type": "code",
   "execution_count": 5,
   "id": "8a1f2623",
   "metadata": {},
   "outputs": [
    {
     "data": {
      "text/plain": [
       "(200, 5)"
      ]
     },
     "execution_count": 5,
     "metadata": {},
     "output_type": "execute_result"
    }
   ],
   "source": [
    "# Dimension\n",
    "dataset.shape"
   ]
  },
  {
   "cell_type": "code",
   "execution_count": 6,
   "id": "7b4175d2",
   "metadata": {},
   "outputs": [
    {
     "data": {
      "text/plain": [
       "Unnamed: 0    0\n",
       "TV            0\n",
       "Radio         0\n",
       "Newspaper     0\n",
       "Sales         0\n",
       "dtype: int64"
      ]
     },
     "execution_count": 6,
     "metadata": {},
     "output_type": "execute_result"
    }
   ],
   "source": [
    "# Checking the null values\n",
    "dataset.isnull().sum()"
   ]
  },
  {
   "cell_type": "markdown",
   "id": "14a2a517",
   "metadata": {},
   "source": [
    "## Visualization"
   ]
  },
  {
   "cell_type": "code",
   "execution_count": 8,
   "id": "cc975eef",
   "metadata": {},
   "outputs": [
    {
     "data": {
      "image/png": "[encoded data removed]",
      "text/plain": [
       "<Figure size 432x432 with 1 Axes>"
      ]
     },
     "metadata": {
      "needs_background": "light"
     },
     "output_type": "display_data"
    }
   ],
   "source": [
    "# Plotting TV V/S Sales\n",
    "\n",
    "plt.figure(figsize=(6,6))\n",
    "sns.scatterplot(data=dataset, x=dataset['TV'], y=dataset['Sales'])\n",
    "plt.show()"
   ]
  },
  {
   "cell_type": "code",
   "execution_count": 9,
   "id": "43610340",
   "metadata": {},
   "outputs": [
    {
     "data": {
      "image/png": "[encoded data removed]",
      "text/plain": [
       "<Figure size 432x432 with 1 Axes>"
      ]
     },
     "metadata": {
      "needs_background": "light"
     },
     "output_type": "display_data"
    }
   ],
   "source": [
    "# Plotting Radio V/S Sales\n",
    "\n",
    "plt.figure(figsize=(6,6))\n",
    "sns.scatterplot(data=dataset, x=dataset['Radio'], y=dataset['Sales'])\n",
    "plt.show()"
   ]
  },
  {
   "cell_type": "code",
   "execution_count": 10,
   "id": "4007bc92",
   "metadata": {},
   "outputs": [
    {
     "data": {
      "image/png": "[encoded data removed]",
      "text/plain": [
       "<Figure size 432x432 with 1 Axes>"
      ]
     },
     "metadata": {
      "needs_background": "light"
     },
     "output_type": "display_data"
    }
   ],
   "source": [
    "# Plotting Newspaper V/S Sales\n",
    "\n",
    "plt.figure(figsize=(6,6))\n",
    "sns.scatterplot(data=dataset, x=dataset['TV'], y=dataset['Sales'])\n",
    "plt.show()"
   ]
  },
  {
   "cell_type": "code",
   "execution_count": 11,
   "id": "8b61ff26",
   "metadata": {},
   "outputs": [
    {
     "name": "stdout",
     "output_type": "stream",
     "text": [
      "X Dimention:  (200, 3)\n",
      "Y Dimention:  (200,)\n"
     ]
    }
   ],
   "source": [
    "# Splitting data into train data and test data\n",
    "\n",
    "x = dataset.drop(['Unnamed: 0','Sales'], axis=1)\n",
    "y = dataset['Sales']\n",
    "print(\"X Dimention: \", x.shape)\n",
    "print(\"Y Dimention: \", y.shape)\n",
    "x_train, x_test, y_train, y_test = train_test_split(x, y, test_size=0.25, random_state=25)"
   ]
  },
  {
   "cell_type": "code",
   "execution_count": 13,
   "id": "728b6e79",
   "metadata": {},
   "outputs": [
    {
     "name": "stdout",
     "output_type": "stream",
     "text": [
      "X_Train Shape: (150, 3)\n",
      "X_Test Shape: (50, 3)\n",
      "Y_Train Shape: (150,)\n",
      "Y_Test Shape: (50,)\n"
     ]
    }
   ],
   "source": [
    "# Shape of datasets\n",
    "\n",
    "print(\"X_Train Shape:\", x_train.shape)\n",
    "print(\"X_Test Shape:\", x_test.shape)\n",
    "print(\"Y_Train Shape:\", y_train.shape)\n",
    "print(\"Y_Test Shape:\", y_test.shape)"
   ]
  },
  {
   "cell_type": "code",
   "execution_count": 15,
   "id": "264927cd",
   "metadata": {},
   "outputs": [
    {
     "data": {
      "text/plain": [
       "LinearRegression()"
      ]
     },
     "execution_count": 15,
     "metadata": {},
     "output_type": "execute_result"
    }
   ],
   "source": [
    "# Building Model\n",
    "\n",
    "model = LinearRegression()\n",
    "model.fit(x_train,y_train)"
   ]
  },
  {
   "cell_type": "code",
   "execution_count": 17,
   "id": "54e793c9",
   "metadata": {},
   "outputs": [
    {
     "data": {
      "text/plain": [
       "array([12.21848666, 13.94217486, 10.22384321, 18.56724883, 23.3199496 ,\n",
       "       10.45130197, 21.19152667, 16.53419297, 17.35981255, 21.27782292,\n",
       "       14.46784207, 19.17437606, 14.94820245, 17.94155545, 13.91392152,\n",
       "       20.16149704,  6.72900804, 18.26351802, 15.4975032 , 14.91026419,\n",
       "       13.89164403, 15.08906893, 14.19285216, 21.93429261,  3.67184091,\n",
       "       15.29427537, 11.71797979,  9.83843453, 17.36968213, 19.60255373,\n",
       "       21.30538943, 24.88144424, 11.42984831, 10.61775468, 15.01669782,\n",
       "       10.75777041,  8.78712724, 17.88624596, 14.08669015, 18.2664208 ,\n",
       "       14.41116298, 21.85906996, 21.83085291,  5.48192281, 11.71647   ,\n",
       "        6.09389275, 12.24508101, 12.45149923,  8.23662697, 14.10155569])"
      ]
     },
     "execution_count": 17,
     "metadata": {},
     "output_type": "execute_result"
    }
   ],
   "source": [
    "# Prediction\n",
    "pred = model.predict(x_test)\n",
    "pred"
   ]
  },
  {
   "cell_type": "code",
   "execution_count": 19,
   "id": "8c3b95ca",
   "metadata": {},
   "outputs": [
    {
     "name": "stdout",
     "output_type": "stream",
     "text": [
      "Mean Absolute Error:  1.3589661756175426\n",
      "Root Mean Squared Error:  1.7670302705342993\n",
      "R-Squared:  0.867331723648149\n"
     ]
    }
   ],
   "source": [
    "# Testing the model\n",
    "\n",
    "print('Mean Absolute Error: ', metrics.mean_absolute_error(pred,y_test))\n",
    "print('Root Mean Squared Error: ', np.sqrt(metrics.mean_squared_error(pred,y_test)))\n",
    "print('R-Squared: ', metrics.r2_score(pred,y_test))"
   ]
  },
  {
   "cell_type": "code",
   "execution_count": 20,
   "id": "36c0d6eb",
   "metadata": {},
   "outputs": [
    {
     "name": "stdout",
     "output_type": "stream",
     "text": [
      "Saved the Model\n"
     ]
    }
   ],
   "source": [
    "# Saving the model\n",
    "\n",
    "filename = \"Linear_Regression.pkl\"\n",
    "pickle.dump(model, open(filename, 'wb'))\n",
    "print(\"Saved the Model\")"
   ]
  },
  {
   "cell_type": "markdown",
   "id": "917c0281",
   "metadata": {},
   "source": [
    "**The Accuracy of Linear Regression Model is 86%**"
   ]
  },
  {
   "cell_type": "markdown",
   "id": "55716cca",
   "metadata": {},
   "source": [
    "### Comparing Regression Models"
   ]
  },
  {
   "cell_type": "code",
   "execution_count": 21,
   "id": "881ebc40",
   "metadata": {},
   "outputs": [
    {
     "data": {
      "text/html": [
       "<style type=\"text/css\">\n",
       "#T_4f9ca_row8_col1 {\n",
       "  background-color: lightgreen;\n",
       "}\n",
       "</style>\n",
       "<table id=\"T_4f9ca\">\n",
       "  <thead>\n",
       "    <tr>\n",
       "      <th class=\"blank level0\" >&nbsp;</th>\n",
       "      <th id=\"T_4f9ca_level0_col0\" class=\"col_heading level0 col0\" >Description</th>\n",
       "      <th id=\"T_4f9ca_level0_col1\" class=\"col_heading level0 col1\" >Value</th>\n",
       "    </tr>\n",
       "  </thead>\n",
       "  <tbody>\n",
       "    <tr>\n",
       "      <th id=\"T_4f9ca_level0_row0\" class=\"row_heading level0 row0\" >0</th>\n",
       "      <td id=\"T_4f9ca_row0_col0\" class=\"data row0 col0\" >Session id</td>\n",
       "      <td id=\"T_4f9ca_row0_col1\" class=\"data row0 col1\" >123</td>\n",
       "    </tr>\n",
       "    <tr>\n",
       "      <th id=\"T_4f9ca_level0_row1\" class=\"row_heading level0 row1\" >1</th>\n",
       "      <td id=\"T_4f9ca_row1_col0\" class=\"data row1 col0\" >Target</td>\n",
       "      <td id=\"T_4f9ca_row1_col1\" class=\"data row1 col1\" >Sales</td>\n",
       "    </tr>\n",
       "    <tr>\n",
       "      <th id=\"T_4f9ca_level0_row2\" class=\"row_heading level0 row2\" >2</th>\n",
       "      <td id=\"T_4f9ca_row2_col0\" class=\"data row2 col0\" >Target type</td>\n",
       "      <td id=\"T_4f9ca_row2_col1\" class=\"data row2 col1\" >Regression</td>\n",
       "    </tr>\n",
       "    <tr>\n",
       "      <th id=\"T_4f9ca_level0_row3\" class=\"row_heading level0 row3\" >3</th>\n",
       "      <td id=\"T_4f9ca_row3_col0\" class=\"data row3 col0\" >Original data shape</td>\n",
       "      <td id=\"T_4f9ca_row3_col1\" class=\"data row3 col1\" >(200, 5)</td>\n",
       "    </tr>\n",
       "    <tr>\n",
       "      <th id=\"T_4f9ca_level0_row4\" class=\"row_heading level0 row4\" >4</th>\n",
       "      <td id=\"T_4f9ca_row4_col0\" class=\"data row4 col0\" >Transformed data shape</td>\n",
       "      <td id=\"T_4f9ca_row4_col1\" class=\"data row4 col1\" >(200, 5)</td>\n",
       "    </tr>\n",
       "    <tr>\n",
       "      <th id=\"T_4f9ca_level0_row5\" class=\"row_heading level0 row5\" >5</th>\n",
       "      <td id=\"T_4f9ca_row5_col0\" class=\"data row5 col0\" >Transformed train set shape</td>\n",
       "      <td id=\"T_4f9ca_row5_col1\" class=\"data row5 col1\" >(140, 5)</td>\n",
       "    </tr>\n",
       "    <tr>\n",
       "      <th id=\"T_4f9ca_level0_row6\" class=\"row_heading level0 row6\" >6</th>\n",
       "      <td id=\"T_4f9ca_row6_col0\" class=\"data row6 col0\" >Transformed test set shape</td>\n",
       "      <td id=\"T_4f9ca_row6_col1\" class=\"data row6 col1\" >(60, 5)</td>\n",
       "    </tr>\n",
       "    <tr>\n",
       "      <th id=\"T_4f9ca_level0_row7\" class=\"row_heading level0 row7\" >7</th>\n",
       "      <td id=\"T_4f9ca_row7_col0\" class=\"data row7 col0\" >Numeric features</td>\n",
       "      <td id=\"T_4f9ca_row7_col1\" class=\"data row7 col1\" >4</td>\n",
       "    </tr>\n",
       "    <tr>\n",
       "      <th id=\"T_4f9ca_level0_row8\" class=\"row_heading level0 row8\" >8</th>\n",
       "      <td id=\"T_4f9ca_row8_col0\" class=\"data row8 col0\" >Preprocess</td>\n",
       "      <td id=\"T_4f9ca_row8_col1\" class=\"data row8 col1\" >True</td>\n",
       "    </tr>\n",
       "    <tr>\n",
       "      <th id=\"T_4f9ca_level0_row9\" class=\"row_heading level0 row9\" >9</th>\n",
       "      <td id=\"T_4f9ca_row9_col0\" class=\"data row9 col0\" >Imputation type</td>\n",
       "      <td id=\"T_4f9ca_row9_col1\" class=\"data row9 col1\" >simple</td>\n",
       "    </tr>\n",
       "    <tr>\n",
       "      <th id=\"T_4f9ca_level0_row10\" class=\"row_heading level0 row10\" >10</th>\n",
       "      <td id=\"T_4f9ca_row10_col0\" class=\"data row10 col0\" >Numeric imputation</td>\n",
       "      <td id=\"T_4f9ca_row10_col1\" class=\"data row10 col1\" >mean</td>\n",
       "    </tr>\n",
       "    <tr>\n",
       "      <th id=\"T_4f9ca_level0_row11\" class=\"row_heading level0 row11\" >11</th>\n",
       "      <td id=\"T_4f9ca_row11_col0\" class=\"data row11 col0\" >Categorical imputation</td>\n",
       "      <td id=\"T_4f9ca_row11_col1\" class=\"data row11 col1\" >mode</td>\n",
       "    </tr>\n",
       "    <tr>\n",
       "      <th id=\"T_4f9ca_level0_row12\" class=\"row_heading level0 row12\" >12</th>\n",
       "      <td id=\"T_4f9ca_row12_col0\" class=\"data row12 col0\" >Fold Generator</td>\n",
       "      <td id=\"T_4f9ca_row12_col1\" class=\"data row12 col1\" >KFold</td>\n",
       "    </tr>\n",
       "    <tr>\n",
       "      <th id=\"T_4f9ca_level0_row13\" class=\"row_heading level0 row13\" >13</th>\n",
       "      <td id=\"T_4f9ca_row13_col0\" class=\"data row13 col0\" >Fold Number</td>\n",
       "      <td id=\"T_4f9ca_row13_col1\" class=\"data row13 col1\" >10</td>\n",
       "    </tr>\n",
       "    <tr>\n",
       "      <th id=\"T_4f9ca_level0_row14\" class=\"row_heading level0 row14\" >14</th>\n",
       "      <td id=\"T_4f9ca_row14_col0\" class=\"data row14 col0\" >CPU Jobs</td>\n",
       "      <td id=\"T_4f9ca_row14_col1\" class=\"data row14 col1\" >-1</td>\n",
       "    </tr>\n",
       "    <tr>\n",
       "      <th id=\"T_4f9ca_level0_row15\" class=\"row_heading level0 row15\" >15</th>\n",
       "      <td id=\"T_4f9ca_row15_col0\" class=\"data row15 col0\" >Use GPU</td>\n",
       "      <td id=\"T_4f9ca_row15_col1\" class=\"data row15 col1\" >False</td>\n",
       "    </tr>\n",
       "    <tr>\n",
       "      <th id=\"T_4f9ca_level0_row16\" class=\"row_heading level0 row16\" >16</th>\n",
       "      <td id=\"T_4f9ca_row16_col0\" class=\"data row16 col0\" >Log Experiment</td>\n",
       "      <td id=\"T_4f9ca_row16_col1\" class=\"data row16 col1\" >False</td>\n",
       "    </tr>\n",
       "    <tr>\n",
       "      <th id=\"T_4f9ca_level0_row17\" class=\"row_heading level0 row17\" >17</th>\n",
       "      <td id=\"T_4f9ca_row17_col0\" class=\"data row17 col0\" >Experiment Name</td>\n",
       "      <td id=\"T_4f9ca_row17_col1\" class=\"data row17 col1\" >reg-default-name</td>\n",
       "    </tr>\n",
       "    <tr>\n",
       "      <th id=\"T_4f9ca_level0_row18\" class=\"row_heading level0 row18\" >18</th>\n",
       "      <td id=\"T_4f9ca_row18_col0\" class=\"data row18 col0\" >USI</td>\n",
       "      <td id=\"T_4f9ca_row18_col1\" class=\"data row18 col1\" >2e58</td>\n",
       "    </tr>\n",
       "  </tbody>\n",
       "</table>\n"
      ],
      "text/plain": [
       "<pandas.io.formats.style.Styler at 0x206cc0595b0>"
      ]
     },
     "metadata": {},
     "output_type": "display_data"
    }
   ],
   "source": [
    "s = setup(data = dataset, target = 'Sales', session_id=123)"
   ]
  },
  {
   "cell_type": "code",
   "execution_count": 22,
   "id": "7bbdf551",
   "metadata": {},
   "outputs": [
    {
     "data": {
      "text/html": [],
      "text/plain": [
       "<IPython.core.display.HTML object>"
      ]
     },
     "metadata": {},
     "output_type": "display_data"
    },
    {
     "data": {
      "text/html": [
       "<style type=\"text/css\">\n",
       "#T_99978 th {\n",
       "  text-align: left;\n",
       "}\n",
       "#T_99978_row0_col0, #T_99978_row1_col0, #T_99978_row1_col1, #T_99978_row1_col2, #T_99978_row1_col3, #T_99978_row1_col4, #T_99978_row1_col5, #T_99978_row1_col6, #T_99978_row2_col0, #T_99978_row2_col1, #T_99978_row2_col2, #T_99978_row2_col3, #T_99978_row2_col4, #T_99978_row2_col5, #T_99978_row2_col6, #T_99978_row3_col0, #T_99978_row3_col1, #T_99978_row3_col2, #T_99978_row3_col3, #T_99978_row3_col4, #T_99978_row3_col5, #T_99978_row3_col6, #T_99978_row4_col0, #T_99978_row4_col1, #T_99978_row4_col2, #T_99978_row4_col3, #T_99978_row4_col4, #T_99978_row4_col5, #T_99978_row4_col6, #T_99978_row5_col0, #T_99978_row5_col1, #T_99978_row5_col2, #T_99978_row5_col3, #T_99978_row5_col4, #T_99978_row5_col5, #T_99978_row5_col6, #T_99978_row6_col0, #T_99978_row6_col1, #T_99978_row6_col2, #T_99978_row6_col3, #T_99978_row6_col4, #T_99978_row6_col5, #T_99978_row6_col6, #T_99978_row7_col0, #T_99978_row7_col1, #T_99978_row7_col2, #T_99978_row7_col3, #T_99978_row7_col4, #T_99978_row7_col5, #T_99978_row7_col6, #T_99978_row8_col0, #T_99978_row8_col1, #T_99978_row8_col2, #T_99978_row8_col3, #T_99978_row8_col4, #T_99978_row8_col5, #T_99978_row8_col6, #T_99978_row9_col0, #T_99978_row9_col1, #T_99978_row9_col2, #T_99978_row9_col3, #T_99978_row9_col4, #T_99978_row9_col5, #T_99978_row9_col6, #T_99978_row10_col0, #T_99978_row10_col1, #T_99978_row10_col2, #T_99978_row10_col3, #T_99978_row10_col4, #T_99978_row10_col5, #T_99978_row10_col6, #T_99978_row11_col0, #T_99978_row11_col1, #T_99978_row11_col2, #T_99978_row11_col3, #T_99978_row11_col4, #T_99978_row11_col5, #T_99978_row11_col6, #T_99978_row12_col0, #T_99978_row12_col1, #T_99978_row12_col2, #T_99978_row12_col3, #T_99978_row12_col4, #T_99978_row12_col5, #T_99978_row12_col6, #T_99978_row13_col0, #T_99978_row13_col1, #T_99978_row13_col2, #T_99978_row13_col3, #T_99978_row13_col4, #T_99978_row13_col5, #T_99978_row13_col6, #T_99978_row14_col0, #T_99978_row14_col1, #T_99978_row14_col2, #T_99978_row14_col3, #T_99978_row14_col4, #T_99978_row14_col5, #T_99978_row14_col6, #T_99978_row15_col0, #T_99978_row15_col1, #T_99978_row15_col2, #T_99978_row15_col3, #T_99978_row15_col4, #T_99978_row15_col5, #T_99978_row15_col6, #T_99978_row16_col0, #T_99978_row16_col1, #T_99978_row16_col2, #T_99978_row16_col3, #T_99978_row16_col4, #T_99978_row16_col5, #T_99978_row16_col6, #T_99978_row17_col0, #T_99978_row17_col1, #T_99978_row17_col2, #T_99978_row17_col3, #T_99978_row17_col4, #T_99978_row17_col5, #T_99978_row17_col6, #T_99978_row18_col0, #T_99978_row18_col1, #T_99978_row18_col2, #T_99978_row18_col3, #T_99978_row18_col4, #T_99978_row18_col5, #T_99978_row18_col6 {\n",
       "  text-align: left;\n",
       "}\n",
       "#T_99978_row0_col1, #T_99978_row0_col2, #T_99978_row0_col3, #T_99978_row0_col4, #T_99978_row0_col5, #T_99978_row0_col6 {\n",
       "  text-align: left;\n",
       "  background-color: yellow;\n",
       "}\n",
       "#T_99978_row0_col7, #T_99978_row1_col7, #T_99978_row2_col7, #T_99978_row3_col7, #T_99978_row4_col7, #T_99978_row5_col7, #T_99978_row6_col7, #T_99978_row7_col7, #T_99978_row9_col7, #T_99978_row10_col7, #T_99978_row11_col7, #T_99978_row12_col7, #T_99978_row13_col7, #T_99978_row14_col7, #T_99978_row15_col7, #T_99978_row16_col7, #T_99978_row17_col7, #T_99978_row18_col7 {\n",
       "  text-align: left;\n",
       "  background-color: lightgrey;\n",
       "}\n",
       "#T_99978_row8_col7 {\n",
       "  text-align: left;\n",
       "  background-color: yellow;\n",
       "  background-color: lightgrey;\n",
       "}\n",
       "</style>\n",
       "<table id=\"T_99978\">\n",
       "  <thead>\n",
       "    <tr>\n",
       "      <th class=\"blank level0\" >&nbsp;</th>\n",
       "      <th id=\"T_99978_level0_col0\" class=\"col_heading level0 col0\" >Model</th>\n",
       "      <th id=\"T_99978_level0_col1\" class=\"col_heading level0 col1\" >MAE</th>\n",
       "      <th id=\"T_99978_level0_col2\" class=\"col_heading level0 col2\" >MSE</th>\n",
       "      <th id=\"T_99978_level0_col3\" class=\"col_heading level0 col3\" >RMSE</th>\n",
       "      <th id=\"T_99978_level0_col4\" class=\"col_heading level0 col4\" >R2</th>\n",
       "      <th id=\"T_99978_level0_col5\" class=\"col_heading level0 col5\" >RMSLE</th>\n",
       "      <th id=\"T_99978_level0_col6\" class=\"col_heading level0 col6\" >MAPE</th>\n",
       "      <th id=\"T_99978_level0_col7\" class=\"col_heading level0 col7\" >TT (Sec)</th>\n",
       "    </tr>\n",
       "  </thead>\n",
       "  <tbody>\n",
       "    <tr>\n",
       "      <th id=\"T_99978_level0_row0\" class=\"row_heading level0 row0\" >et</th>\n",
       "      <td id=\"T_99978_row0_col0\" class=\"data row0 col0\" >Extra Trees Regressor</td>\n",
       "      <td id=\"T_99978_row0_col1\" class=\"data row0 col1\" >0.4870</td>\n",
       "      <td id=\"T_99978_row0_col2\" class=\"data row0 col2\" >0.4736</td>\n",
       "      <td id=\"T_99978_row0_col3\" class=\"data row0 col3\" >0.6572</td>\n",
       "      <td id=\"T_99978_row0_col4\" class=\"data row0 col4\" >0.9818</td>\n",
       "      <td id=\"T_99978_row0_col5\" class=\"data row0 col5\" >0.0699</td>\n",
       "      <td id=\"T_99978_row0_col6\" class=\"data row0 col6\" >0.0568</td>\n",
       "      <td id=\"T_99978_row0_col7\" class=\"data row0 col7\" >0.0920</td>\n",
       "    </tr>\n",
       "    <tr>\n",
       "      <th id=\"T_99978_level0_row1\" class=\"row_heading level0 row1\" >gbr</th>\n",
       "      <td id=\"T_99978_row1_col0\" class=\"data row1 col0\" >Gradient Boosting Regressor</td>\n",
       "      <td id=\"T_99978_row1_col1\" class=\"data row1 col1\" >0.6630</td>\n",
       "      <td id=\"T_99978_row1_col2\" class=\"data row1 col2\" >0.7866</td>\n",
       "      <td id=\"T_99978_row1_col3\" class=\"data row1 col3\" >0.8574</td>\n",
       "      <td id=\"T_99978_row1_col4\" class=\"data row1 col4\" >0.9682</td>\n",
       "      <td id=\"T_99978_row1_col5\" class=\"data row1 col5\" >0.0850</td>\n",
       "      <td id=\"T_99978_row1_col6\" class=\"data row1 col6\" >0.0716</td>\n",
       "      <td id=\"T_99978_row1_col7\" class=\"data row1 col7\" >0.0640</td>\n",
       "    </tr>\n",
       "    <tr>\n",
       "      <th id=\"T_99978_level0_row2\" class=\"row_heading level0 row2\" >rf</th>\n",
       "      <td id=\"T_99978_row2_col0\" class=\"data row2 col0\" >Random Forest Regressor</td>\n",
       "      <td id=\"T_99978_row2_col1\" class=\"data row2 col1\" >0.7133</td>\n",
       "      <td id=\"T_99978_row2_col2\" class=\"data row2 col2\" >0.8401</td>\n",
       "      <td id=\"T_99978_row2_col3\" class=\"data row2 col3\" >0.8900</td>\n",
       "      <td id=\"T_99978_row2_col4\" class=\"data row2 col4\" >0.9677</td>\n",
       "      <td id=\"T_99978_row2_col5\" class=\"data row2 col5\" >0.0848</td>\n",
       "      <td id=\"T_99978_row2_col6\" class=\"data row2 col6\" >0.0737</td>\n",
       "      <td id=\"T_99978_row2_col7\" class=\"data row2 col7\" >0.1030</td>\n",
       "    </tr>\n",
       "    <tr>\n",
       "      <th id=\"T_99978_level0_row3\" class=\"row_heading level0 row3\" >xgboost</th>\n",
       "      <td id=\"T_99978_row3_col0\" class=\"data row3 col0\" >Extreme Gradient Boosting</td>\n",
       "      <td id=\"T_99978_row3_col1\" class=\"data row3 col1\" >0.7371</td>\n",
       "      <td id=\"T_99978_row3_col2\" class=\"data row3 col2\" >1.0121</td>\n",
       "      <td id=\"T_99978_row3_col3\" class=\"data row3 col3\" >0.9810</td>\n",
       "      <td id=\"T_99978_row3_col4\" class=\"data row3 col4\" >0.9574</td>\n",
       "      <td id=\"T_99978_row3_col5\" class=\"data row3 col5\" >0.0935</td>\n",
       "      <td id=\"T_99978_row3_col6\" class=\"data row3 col6\" >0.0777</td>\n",
       "      <td id=\"T_99978_row3_col7\" class=\"data row3 col7\" >0.3060</td>\n",
       "    </tr>\n",
       "    <tr>\n",
       "      <th id=\"T_99978_level0_row4\" class=\"row_heading level0 row4\" >ada</th>\n",
       "      <td id=\"T_99978_row4_col0\" class=\"data row4 col0\" >AdaBoost Regressor</td>\n",
       "      <td id=\"T_99978_row4_col1\" class=\"data row4 col1\" >0.8880</td>\n",
       "      <td id=\"T_99978_row4_col2\" class=\"data row4 col2\" >1.2378</td>\n",
       "      <td id=\"T_99978_row4_col3\" class=\"data row4 col3\" >1.0774</td>\n",
       "      <td id=\"T_99978_row4_col4\" class=\"data row4 col4\" >0.9505</td>\n",
       "      <td id=\"T_99978_row4_col5\" class=\"data row4 col5\" >0.0997</td>\n",
       "      <td id=\"T_99978_row4_col6\" class=\"data row4 col6\" >0.0914</td>\n",
       "      <td id=\"T_99978_row4_col7\" class=\"data row4 col7\" >0.0720</td>\n",
       "    </tr>\n",
       "    <tr>\n",
       "      <th id=\"T_99978_level0_row5\" class=\"row_heading level0 row5\" >dt</th>\n",
       "      <td id=\"T_99978_row5_col0\" class=\"data row5 col0\" >Decision Tree Regressor</td>\n",
       "      <td id=\"T_99978_row5_col1\" class=\"data row5 col1\" >0.9236</td>\n",
       "      <td id=\"T_99978_row5_col2\" class=\"data row5 col2\" >1.4702</td>\n",
       "      <td id=\"T_99978_row5_col3\" class=\"data row5 col3\" >1.1938</td>\n",
       "      <td id=\"T_99978_row5_col4\" class=\"data row5 col4\" >0.9339</td>\n",
       "      <td id=\"T_99978_row5_col5\" class=\"data row5 col5\" >0.1109</td>\n",
       "      <td id=\"T_99978_row5_col6\" class=\"data row5 col6\" >0.0898</td>\n",
       "      <td id=\"T_99978_row5_col7\" class=\"data row5 col7\" >0.0590</td>\n",
       "    </tr>\n",
       "    <tr>\n",
       "      <th id=\"T_99978_level0_row6\" class=\"row_heading level0 row6\" >lightgbm</th>\n",
       "      <td id=\"T_99978_row6_col0\" class=\"data row6 col0\" >Light Gradient Boosting Machine</td>\n",
       "      <td id=\"T_99978_row6_col1\" class=\"data row6 col1\" >1.0096</td>\n",
       "      <td id=\"T_99978_row6_col2\" class=\"data row6 col2\" >1.9894</td>\n",
       "      <td id=\"T_99978_row6_col3\" class=\"data row6 col3\" >1.3678</td>\n",
       "      <td id=\"T_99978_row6_col4\" class=\"data row6 col4\" >0.9170</td>\n",
       "      <td id=\"T_99978_row6_col5\" class=\"data row6 col5\" >0.1453</td>\n",
       "      <td id=\"T_99978_row6_col6\" class=\"data row6 col6\" >0.1206</td>\n",
       "      <td id=\"T_99978_row6_col7\" class=\"data row6 col7\" >0.2570</td>\n",
       "    </tr>\n",
       "    <tr>\n",
       "      <th id=\"T_99978_level0_row7\" class=\"row_heading level0 row7\" >lasso</th>\n",
       "      <td id=\"T_99978_row7_col0\" class=\"data row7 col0\" >Lasso Regression</td>\n",
       "      <td id=\"T_99978_row7_col1\" class=\"data row7 col1\" >1.3872</td>\n",
       "      <td id=\"T_99978_row7_col2\" class=\"data row7 col2\" >3.3382</td>\n",
       "      <td id=\"T_99978_row7_col3\" class=\"data row7 col3\" >1.7591</td>\n",
       "      <td id=\"T_99978_row7_col4\" class=\"data row7 col4\" >0.8656</td>\n",
       "      <td id=\"T_99978_row7_col5\" class=\"data row7 col5\" >0.1724</td>\n",
       "      <td id=\"T_99978_row7_col6\" class=\"data row7 col6\" >0.1614</td>\n",
       "      <td id=\"T_99978_row7_col7\" class=\"data row7 col7\" >0.0330</td>\n",
       "    </tr>\n",
       "    <tr>\n",
       "      <th id=\"T_99978_level0_row8\" class=\"row_heading level0 row8\" >en</th>\n",
       "      <td id=\"T_99978_row8_col0\" class=\"data row8 col0\" >Elastic Net</td>\n",
       "      <td id=\"T_99978_row8_col1\" class=\"data row8 col1\" >1.3877</td>\n",
       "      <td id=\"T_99978_row8_col2\" class=\"data row8 col2\" >3.3523</td>\n",
       "      <td id=\"T_99978_row8_col3\" class=\"data row8 col3\" >1.7612</td>\n",
       "      <td id=\"T_99978_row8_col4\" class=\"data row8 col4\" >0.8652</td>\n",
       "      <td id=\"T_99978_row8_col5\" class=\"data row8 col5\" >0.1736</td>\n",
       "      <td id=\"T_99978_row8_col6\" class=\"data row8 col6\" >0.1622</td>\n",
       "      <td id=\"T_99978_row8_col7\" class=\"data row8 col7\" >0.0220</td>\n",
       "    </tr>\n",
       "    <tr>\n",
       "      <th id=\"T_99978_level0_row9\" class=\"row_heading level0 row9\" >lar</th>\n",
       "      <td id=\"T_99978_row9_col0\" class=\"data row9 col0\" >Least Angle Regression</td>\n",
       "      <td id=\"T_99978_row9_col1\" class=\"data row9 col1\" >1.3886</td>\n",
       "      <td id=\"T_99978_row9_col2\" class=\"data row9 col2\" >3.3712</td>\n",
       "      <td id=\"T_99978_row9_col3\" class=\"data row9 col3\" >1.7643</td>\n",
       "      <td id=\"T_99978_row9_col4\" class=\"data row9 col4\" >0.8646</td>\n",
       "      <td id=\"T_99978_row9_col5\" class=\"data row9 col5\" >0.1755</td>\n",
       "      <td id=\"T_99978_row9_col6\" class=\"data row9 col6\" >0.1634</td>\n",
       "      <td id=\"T_99978_row9_col7\" class=\"data row9 col7\" >0.0450</td>\n",
       "    </tr>\n",
       "    <tr>\n",
       "      <th id=\"T_99978_level0_row10\" class=\"row_heading level0 row10\" >lr</th>\n",
       "      <td id=\"T_99978_row10_col0\" class=\"data row10 col0\" >Linear Regression</td>\n",
       "      <td id=\"T_99978_row10_col1\" class=\"data row10 col1\" >1.3886</td>\n",
       "      <td id=\"T_99978_row10_col2\" class=\"data row10 col2\" >3.3712</td>\n",
       "      <td id=\"T_99978_row10_col3\" class=\"data row10 col3\" >1.7643</td>\n",
       "      <td id=\"T_99978_row10_col4\" class=\"data row10 col4\" >0.8646</td>\n",
       "      <td id=\"T_99978_row10_col5\" class=\"data row10 col5\" >0.1755</td>\n",
       "      <td id=\"T_99978_row10_col6\" class=\"data row10 col6\" >0.1634</td>\n",
       "      <td id=\"T_99978_row10_col7\" class=\"data row10 col7\" >0.8810</td>\n",
       "    </tr>\n",
       "    <tr>\n",
       "      <th id=\"T_99978_level0_row11\" class=\"row_heading level0 row11\" >ridge</th>\n",
       "      <td id=\"T_99978_row11_col0\" class=\"data row11 col0\" >Ridge Regression</td>\n",
       "      <td id=\"T_99978_row11_col1\" class=\"data row11 col1\" >1.3886</td>\n",
       "      <td id=\"T_99978_row11_col2\" class=\"data row11 col2\" >3.3712</td>\n",
       "      <td id=\"T_99978_row11_col3\" class=\"data row11 col3\" >1.7643</td>\n",
       "      <td id=\"T_99978_row11_col4\" class=\"data row11 col4\" >0.8646</td>\n",
       "      <td id=\"T_99978_row11_col5\" class=\"data row11 col5\" >0.1755</td>\n",
       "      <td id=\"T_99978_row11_col6\" class=\"data row11 col6\" >0.1634</td>\n",
       "      <td id=\"T_99978_row11_col7\" class=\"data row11 col7\" >0.0700</td>\n",
       "    </tr>\n",
       "    <tr>\n",
       "      <th id=\"T_99978_level0_row12\" class=\"row_heading level0 row12\" >br</th>\n",
       "      <td id=\"T_99978_row12_col0\" class=\"data row12 col0\" >Bayesian Ridge</td>\n",
       "      <td id=\"T_99978_row12_col1\" class=\"data row12 col1\" >1.3940</td>\n",
       "      <td id=\"T_99978_row12_col2\" class=\"data row12 col2\" >3.3789</td>\n",
       "      <td id=\"T_99978_row12_col3\" class=\"data row12 col3\" >1.7678</td>\n",
       "      <td id=\"T_99978_row12_col4\" class=\"data row12 col4\" >0.8640</td>\n",
       "      <td id=\"T_99978_row12_col5\" class=\"data row12 col5\" >0.1743</td>\n",
       "      <td id=\"T_99978_row12_col6\" class=\"data row12 col6\" >0.1631</td>\n",
       "      <td id=\"T_99978_row12_col7\" class=\"data row12 col7\" >0.0270</td>\n",
       "    </tr>\n",
       "    <tr>\n",
       "      <th id=\"T_99978_level0_row13\" class=\"row_heading level0 row13\" >huber</th>\n",
       "      <td id=\"T_99978_row13_col0\" class=\"data row13 col0\" >Huber Regressor</td>\n",
       "      <td id=\"T_99978_row13_col1\" class=\"data row13 col1\" >1.3491</td>\n",
       "      <td id=\"T_99978_row13_col2\" class=\"data row13 col2\" >3.5108</td>\n",
       "      <td id=\"T_99978_row13_col3\" class=\"data row13 col3\" >1.7959</td>\n",
       "      <td id=\"T_99978_row13_col4\" class=\"data row13 col4\" >0.8599</td>\n",
       "      <td id=\"T_99978_row13_col5\" class=\"data row13 col5\" >0.1783</td>\n",
       "      <td id=\"T_99978_row13_col6\" class=\"data row13 col6\" >0.1662</td>\n",
       "      <td id=\"T_99978_row13_col7\" class=\"data row13 col7\" >0.1630</td>\n",
       "    </tr>\n",
       "    <tr>\n",
       "      <th id=\"T_99978_level0_row14\" class=\"row_heading level0 row14\" >knn</th>\n",
       "      <td id=\"T_99978_row14_col0\" class=\"data row14 col0\" >K Neighbors Regressor</td>\n",
       "      <td id=\"T_99978_row14_col1\" class=\"data row14 col1\" >2.0039</td>\n",
       "      <td id=\"T_99978_row14_col2\" class=\"data row14 col2\" >6.7314</td>\n",
       "      <td id=\"T_99978_row14_col3\" class=\"data row14 col3\" >2.5577</td>\n",
       "      <td id=\"T_99978_row14_col4\" class=\"data row14 col4\" >0.7133</td>\n",
       "      <td id=\"T_99978_row14_col5\" class=\"data row14 col5\" >0.1926</td>\n",
       "      <td id=\"T_99978_row14_col6\" class=\"data row14 col6\" >0.1842</td>\n",
       "      <td id=\"T_99978_row14_col7\" class=\"data row14 col7\" >0.0580</td>\n",
       "    </tr>\n",
       "    <tr>\n",
       "      <th id=\"T_99978_level0_row15\" class=\"row_heading level0 row15\" >omp</th>\n",
       "      <td id=\"T_99978_row15_col0\" class=\"data row15 col0\" >Orthogonal Matching Pursuit</td>\n",
       "      <td id=\"T_99978_row15_col1\" class=\"data row15 col1\" >2.6871</td>\n",
       "      <td id=\"T_99978_row15_col2\" class=\"data row15 col2\" >11.2996</td>\n",
       "      <td id=\"T_99978_row15_col3\" class=\"data row15 col3\" >3.3293</td>\n",
       "      <td id=\"T_99978_row15_col4\" class=\"data row15 col4\" >0.4990</td>\n",
       "      <td id=\"T_99978_row15_col5\" class=\"data row15 col5\" >0.2264</td>\n",
       "      <td id=\"T_99978_row15_col6\" class=\"data row15 col6\" >0.2269</td>\n",
       "      <td id=\"T_99978_row15_col7\" class=\"data row15 col7\" >0.0250</td>\n",
       "    </tr>\n",
       "    <tr>\n",
       "      <th id=\"T_99978_level0_row16\" class=\"row_heading level0 row16\" >par</th>\n",
       "      <td id=\"T_99978_row16_col0\" class=\"data row16 col0\" >Passive Aggressive Regressor</td>\n",
       "      <td id=\"T_99978_row16_col1\" class=\"data row16 col1\" >3.2456</td>\n",
       "      <td id=\"T_99978_row16_col2\" class=\"data row16 col2\" >16.1895</td>\n",
       "      <td id=\"T_99978_row16_col3\" class=\"data row16 col3\" >3.8526</td>\n",
       "      <td id=\"T_99978_row16_col4\" class=\"data row16 col4\" >0.3089</td>\n",
       "      <td id=\"T_99978_row16_col5\" class=\"data row16 col5\" >0.2808</td>\n",
       "      <td id=\"T_99978_row16_col6\" class=\"data row16 col6\" >0.3004</td>\n",
       "      <td id=\"T_99978_row16_col7\" class=\"data row16 col7\" >0.0410</td>\n",
       "    </tr>\n",
       "    <tr>\n",
       "      <th id=\"T_99978_level0_row17\" class=\"row_heading level0 row17\" >llar</th>\n",
       "      <td id=\"T_99978_row17_col0\" class=\"data row17 col0\" >Lasso Least Angle Regression</td>\n",
       "      <td id=\"T_99978_row17_col1\" class=\"data row17 col1\" >4.3561</td>\n",
       "      <td id=\"T_99978_row17_col2\" class=\"data row17 col2\" >27.7343</td>\n",
       "      <td id=\"T_99978_row17_col3\" class=\"data row17 col3\" >5.1586</td>\n",
       "      <td id=\"T_99978_row17_col4\" class=\"data row17 col4\" >-0.0588</td>\n",
       "      <td id=\"T_99978_row17_col5\" class=\"data row17 col5\" >0.3803</td>\n",
       "      <td id=\"T_99978_row17_col6\" class=\"data row17 col6\" >0.4259</td>\n",
       "      <td id=\"T_99978_row17_col7\" class=\"data row17 col7\" >0.0240</td>\n",
       "    </tr>\n",
       "    <tr>\n",
       "      <th id=\"T_99978_level0_row18\" class=\"row_heading level0 row18\" >dummy</th>\n",
       "      <td id=\"T_99978_row18_col0\" class=\"data row18 col0\" >Dummy Regressor</td>\n",
       "      <td id=\"T_99978_row18_col1\" class=\"data row18 col1\" >4.3561</td>\n",
       "      <td id=\"T_99978_row18_col2\" class=\"data row18 col2\" >27.7343</td>\n",
       "      <td id=\"T_99978_row18_col3\" class=\"data row18 col3\" >5.1586</td>\n",
       "      <td id=\"T_99978_row18_col4\" class=\"data row18 col4\" >-0.0588</td>\n",
       "      <td id=\"T_99978_row18_col5\" class=\"data row18 col5\" >0.3803</td>\n",
       "      <td id=\"T_99978_row18_col6\" class=\"data row18 col6\" >0.4259</td>\n",
       "      <td id=\"T_99978_row18_col7\" class=\"data row18 col7\" >0.0530</td>\n",
       "    </tr>\n",
       "  </tbody>\n",
       "</table>\n"
      ],
      "text/plain": [
       "<pandas.io.formats.style.Styler at 0x206cca4d730>"
      ]
     },
     "metadata": {},
     "output_type": "display_data"
    },
    {
     "data": {
      "text/html": [],
      "text/plain": [
       "<IPython.core.display.HTML object>"
      ]
     },
     "metadata": {},
     "output_type": "display_data"
    },
    {
     "data": {
      "text/plain": [
       "ExtraTreesRegressor(n_jobs=-1, random_state=123)"
      ]
     },
     "execution_count": 22,
     "metadata": {},
     "output_type": "execute_result"
    }
   ],
   "source": [
    "compare_models()"
   ]
  },
  {
   "cell_type": "markdown",
   "id": "2a8d4d1c",
   "metadata": {},
   "source": [
    "**Finalizing the best Model**"
   ]
  },
  {
   "cell_type": "code",
   "execution_count": 23,
   "id": "26be067c",
   "metadata": {},
   "outputs": [
    {
     "data": {
      "text/html": [],
      "text/plain": [
       "<IPython.core.display.HTML object>"
      ]
     },
     "metadata": {},
     "output_type": "display_data"
    },
    {
     "data": {
      "text/html": [
       "<style type=\"text/css\">\n",
       "#T_a3d2b_row10_col0, #T_a3d2b_row10_col1, #T_a3d2b_row10_col2, #T_a3d2b_row10_col3, #T_a3d2b_row10_col4, #T_a3d2b_row10_col5 {\n",
       "  background: yellow;\n",
       "}\n",
       "</style>\n",
       "<table id=\"T_a3d2b\">\n",
       "  <thead>\n",
       "    <tr>\n",
       "      <th class=\"blank level0\" >&nbsp;</th>\n",
       "      <th id=\"T_a3d2b_level0_col0\" class=\"col_heading level0 col0\" >MAE</th>\n",
       "      <th id=\"T_a3d2b_level0_col1\" class=\"col_heading level0 col1\" >MSE</th>\n",
       "      <th id=\"T_a3d2b_level0_col2\" class=\"col_heading level0 col2\" >RMSE</th>\n",
       "      <th id=\"T_a3d2b_level0_col3\" class=\"col_heading level0 col3\" >R2</th>\n",
       "      <th id=\"T_a3d2b_level0_col4\" class=\"col_heading level0 col4\" >RMSLE</th>\n",
       "      <th id=\"T_a3d2b_level0_col5\" class=\"col_heading level0 col5\" >MAPE</th>\n",
       "    </tr>\n",
       "    <tr>\n",
       "      <th class=\"index_name level0\" >Fold</th>\n",
       "      <th class=\"blank col0\" >&nbsp;</th>\n",
       "      <th class=\"blank col1\" >&nbsp;</th>\n",
       "      <th class=\"blank col2\" >&nbsp;</th>\n",
       "      <th class=\"blank col3\" >&nbsp;</th>\n",
       "      <th class=\"blank col4\" >&nbsp;</th>\n",
       "      <th class=\"blank col5\" >&nbsp;</th>\n",
       "    </tr>\n",
       "  </thead>\n",
       "  <tbody>\n",
       "    <tr>\n",
       "      <th id=\"T_a3d2b_level0_row0\" class=\"row_heading level0 row0\" >0</th>\n",
       "      <td id=\"T_a3d2b_row0_col0\" class=\"data row0 col0\" >0.4179</td>\n",
       "      <td id=\"T_a3d2b_row0_col1\" class=\"data row0 col1\" >0.3977</td>\n",
       "      <td id=\"T_a3d2b_row0_col2\" class=\"data row0 col2\" >0.6307</td>\n",
       "      <td id=\"T_a3d2b_row0_col3\" class=\"data row0 col3\" >0.9820</td>\n",
       "      <td id=\"T_a3d2b_row0_col4\" class=\"data row0 col4\" >0.0424</td>\n",
       "      <td id=\"T_a3d2b_row0_col5\" class=\"data row0 col5\" >0.0347</td>\n",
       "    </tr>\n",
       "    <tr>\n",
       "      <th id=\"T_a3d2b_level0_row1\" class=\"row_heading level0 row1\" >1</th>\n",
       "      <td id=\"T_a3d2b_row1_col0\" class=\"data row1 col0\" >0.7176</td>\n",
       "      <td id=\"T_a3d2b_row1_col1\" class=\"data row1 col1\" >1.4009</td>\n",
       "      <td id=\"T_a3d2b_row1_col2\" class=\"data row1 col2\" >1.1836</td>\n",
       "      <td id=\"T_a3d2b_row1_col3\" class=\"data row1 col3\" >0.9549</td>\n",
       "      <td id=\"T_a3d2b_row1_col4\" class=\"data row1 col4\" >0.2556</td>\n",
       "      <td id=\"T_a3d2b_row1_col5\" class=\"data row1 col5\" >0.2236</td>\n",
       "    </tr>\n",
       "    <tr>\n",
       "      <th id=\"T_a3d2b_level0_row2\" class=\"row_heading level0 row2\" >2</th>\n",
       "      <td id=\"T_a3d2b_row2_col0\" class=\"data row2 col0\" >0.5294</td>\n",
       "      <td id=\"T_a3d2b_row2_col1\" class=\"data row2 col1\" >0.5571</td>\n",
       "      <td id=\"T_a3d2b_row2_col2\" class=\"data row2 col2\" >0.7464</td>\n",
       "      <td id=\"T_a3d2b_row2_col3\" class=\"data row2 col3\" >0.9822</td>\n",
       "      <td id=\"T_a3d2b_row2_col4\" class=\"data row2 col4\" >0.0436</td>\n",
       "      <td id=\"T_a3d2b_row2_col5\" class=\"data row2 col5\" >0.0384</td>\n",
       "    </tr>\n",
       "    <tr>\n",
       "      <th id=\"T_a3d2b_level0_row3\" class=\"row_heading level0 row3\" >3</th>\n",
       "      <td id=\"T_a3d2b_row3_col0\" class=\"data row3 col0\" >0.3916</td>\n",
       "      <td id=\"T_a3d2b_row3_col1\" class=\"data row3 col1\" >0.2425</td>\n",
       "      <td id=\"T_a3d2b_row3_col2\" class=\"data row3 col2\" >0.4925</td>\n",
       "      <td id=\"T_a3d2b_row3_col3\" class=\"data row3 col3\" >0.9795</td>\n",
       "      <td id=\"T_a3d2b_row3_col4\" class=\"data row3 col4\" >0.0365</td>\n",
       "      <td id=\"T_a3d2b_row3_col5\" class=\"data row3 col5\" >0.0306</td>\n",
       "    </tr>\n",
       "    <tr>\n",
       "      <th id=\"T_a3d2b_level0_row4\" class=\"row_heading level0 row4\" >4</th>\n",
       "      <td id=\"T_a3d2b_row4_col0\" class=\"data row4 col0\" >0.3891</td>\n",
       "      <td id=\"T_a3d2b_row4_col1\" class=\"data row4 col1\" >0.2269</td>\n",
       "      <td id=\"T_a3d2b_row4_col2\" class=\"data row4 col2\" >0.4764</td>\n",
       "      <td id=\"T_a3d2b_row4_col3\" class=\"data row4 col3\" >0.9817</td>\n",
       "      <td id=\"T_a3d2b_row4_col4\" class=\"data row4 col4\" >0.0350</td>\n",
       "      <td id=\"T_a3d2b_row4_col5\" class=\"data row4 col5\" >0.0297</td>\n",
       "    </tr>\n",
       "    <tr>\n",
       "      <th id=\"T_a3d2b_level0_row5\" class=\"row_heading level0 row5\" >5</th>\n",
       "      <td id=\"T_a3d2b_row5_col0\" class=\"data row5 col0\" >0.4183</td>\n",
       "      <td id=\"T_a3d2b_row5_col1\" class=\"data row5 col1\" >0.2326</td>\n",
       "      <td id=\"T_a3d2b_row5_col2\" class=\"data row5 col2\" >0.4823</td>\n",
       "      <td id=\"T_a3d2b_row5_col3\" class=\"data row5 col3\" >0.9899</td>\n",
       "      <td id=\"T_a3d2b_row5_col4\" class=\"data row5 col4\" >0.0384</td>\n",
       "      <td id=\"T_a3d2b_row5_col5\" class=\"data row5 col5\" >0.0361</td>\n",
       "    </tr>\n",
       "    <tr>\n",
       "      <th id=\"T_a3d2b_level0_row6\" class=\"row_heading level0 row6\" >6</th>\n",
       "      <td id=\"T_a3d2b_row6_col0\" class=\"data row6 col0\" >0.5249</td>\n",
       "      <td id=\"T_a3d2b_row6_col1\" class=\"data row6 col1\" >0.3842</td>\n",
       "      <td id=\"T_a3d2b_row6_col2\" class=\"data row6 col2\" >0.6199</td>\n",
       "      <td id=\"T_a3d2b_row6_col3\" class=\"data row6 col3\" >0.9884</td>\n",
       "      <td id=\"T_a3d2b_row6_col4\" class=\"data row6 col4\" >0.0540</td>\n",
       "      <td id=\"T_a3d2b_row6_col5\" class=\"data row6 col5\" >0.0458</td>\n",
       "    </tr>\n",
       "    <tr>\n",
       "      <th id=\"T_a3d2b_level0_row7\" class=\"row_heading level0 row7\" >7</th>\n",
       "      <td id=\"T_a3d2b_row7_col0\" class=\"data row7 col0\" >0.3770</td>\n",
       "      <td id=\"T_a3d2b_row7_col1\" class=\"data row7 col1\" >0.2750</td>\n",
       "      <td id=\"T_a3d2b_row7_col2\" class=\"data row7 col2\" >0.5244</td>\n",
       "      <td id=\"T_a3d2b_row7_col3\" class=\"data row7 col3\" >0.9858</td>\n",
       "      <td id=\"T_a3d2b_row7_col4\" class=\"data row7 col4\" >0.0702</td>\n",
       "      <td id=\"T_a3d2b_row7_col5\" class=\"data row7 col5\" >0.0441</td>\n",
       "    </tr>\n",
       "    <tr>\n",
       "      <th id=\"T_a3d2b_level0_row8\" class=\"row_heading level0 row8\" >8</th>\n",
       "      <td id=\"T_a3d2b_row8_col0\" class=\"data row8 col0\" >0.4856</td>\n",
       "      <td id=\"T_a3d2b_row8_col1\" class=\"data row8 col1\" >0.3812</td>\n",
       "      <td id=\"T_a3d2b_row8_col2\" class=\"data row8 col2\" >0.6174</td>\n",
       "      <td id=\"T_a3d2b_row8_col3\" class=\"data row8 col3\" >0.9886</td>\n",
       "      <td id=\"T_a3d2b_row8_col4\" class=\"data row8 col4\" >0.0759</td>\n",
       "      <td id=\"T_a3d2b_row8_col5\" class=\"data row8 col5\" >0.0451</td>\n",
       "    </tr>\n",
       "    <tr>\n",
       "      <th id=\"T_a3d2b_level0_row9\" class=\"row_heading level0 row9\" >9</th>\n",
       "      <td id=\"T_a3d2b_row9_col0\" class=\"data row9 col0\" >0.6183</td>\n",
       "      <td id=\"T_a3d2b_row9_col1\" class=\"data row9 col1\" >0.6373</td>\n",
       "      <td id=\"T_a3d2b_row9_col2\" class=\"data row9 col2\" >0.7983</td>\n",
       "      <td id=\"T_a3d2b_row9_col3\" class=\"data row9 col3\" >0.9846</td>\n",
       "      <td id=\"T_a3d2b_row9_col4\" class=\"data row9 col4\" >0.0470</td>\n",
       "      <td id=\"T_a3d2b_row9_col5\" class=\"data row9 col5\" >0.0397</td>\n",
       "    </tr>\n",
       "    <tr>\n",
       "      <th id=\"T_a3d2b_level0_row10\" class=\"row_heading level0 row10\" >Mean</th>\n",
       "      <td id=\"T_a3d2b_row10_col0\" class=\"data row10 col0\" >0.4870</td>\n",
       "      <td id=\"T_a3d2b_row10_col1\" class=\"data row10 col1\" >0.4736</td>\n",
       "      <td id=\"T_a3d2b_row10_col2\" class=\"data row10 col2\" >0.6572</td>\n",
       "      <td id=\"T_a3d2b_row10_col3\" class=\"data row10 col3\" >0.9818</td>\n",
       "      <td id=\"T_a3d2b_row10_col4\" class=\"data row10 col4\" >0.0699</td>\n",
       "      <td id=\"T_a3d2b_row10_col5\" class=\"data row10 col5\" >0.0568</td>\n",
       "    </tr>\n",
       "    <tr>\n",
       "      <th id=\"T_a3d2b_level0_row11\" class=\"row_heading level0 row11\" >Std</th>\n",
       "      <td id=\"T_a3d2b_row11_col0\" class=\"data row11 col0\" >0.1068</td>\n",
       "      <td id=\"T_a3d2b_row11_col1\" class=\"data row11 col1\" >0.3358</td>\n",
       "      <td id=\"T_a3d2b_row11_col2\" class=\"data row11 col2\" >0.2041</td>\n",
       "      <td id=\"T_a3d2b_row11_col3\" class=\"data row11 col3\" >0.0095</td>\n",
       "      <td id=\"T_a3d2b_row11_col4\" class=\"data row11 col4\" >0.0633</td>\n",
       "      <td id=\"T_a3d2b_row11_col5\" class=\"data row11 col5\" >0.0559</td>\n",
       "    </tr>\n",
       "  </tbody>\n",
       "</table>\n"
      ],
      "text/plain": [
       "<pandas.io.formats.style.Styler at 0x206ceed1430>"
      ]
     },
     "metadata": {},
     "output_type": "display_data"
    },
    {
     "data": {
      "text/html": [],
      "text/plain": [
       "<IPython.core.display.HTML object>"
      ]
     },
     "metadata": {},
     "output_type": "display_data"
    }
   ],
   "source": [
    "etr = create_model('et')"
   ]
  },
  {
   "cell_type": "code",
   "execution_count": 24,
   "id": "21d560b4",
   "metadata": {},
   "outputs": [
    {
     "data": {
      "text/plain": [
       "Pipeline(memory=FastMemory(location=C:\\Users\\acer\\AppData\\Local\\Temp\\joblib),\n",
       "         steps=[('numerical_imputer',\n",
       "                 TransformerWrapper(include=['Unnamed: 0', 'TV', 'Radio',\n",
       "                                             'Newspaper'],\n",
       "                                    transformer=SimpleImputer())),\n",
       "                ('categorical_imputer',\n",
       "                 TransformerWrapper(include=[],\n",
       "                                    transformer=SimpleImputer(strategy='most_frequent'))),\n",
       "                ('clean_column_names',\n",
       "                 TransformerWrapper(transformer=CleanColumnNames())),\n",
       "                ('actual_estimator',\n",
       "                 ExtraTreesRegressor(n_jobs=-1, random_state=123))])"
      ]
     },
     "execution_count": 24,
     "metadata": {},
     "output_type": "execute_result"
    }
   ],
   "source": [
    "etr = finalize_model(etr)\n",
    "etr"
   ]
  },
  {
   "cell_type": "code",
   "execution_count": 25,
   "id": "eb086b84",
   "metadata": {},
   "outputs": [
    {
     "data": {
      "text/html": [
       "<style type=\"text/css\">\n",
       "</style>\n",
       "<table id=\"T_5050a\">\n",
       "  <thead>\n",
       "    <tr>\n",
       "      <th class=\"blank level0\" >&nbsp;</th>\n",
       "      <th id=\"T_5050a_level0_col0\" class=\"col_heading level0 col0\" >Model</th>\n",
       "      <th id=\"T_5050a_level0_col1\" class=\"col_heading level0 col1\" >MAE</th>\n",
       "      <th id=\"T_5050a_level0_col2\" class=\"col_heading level0 col2\" >MSE</th>\n",
       "      <th id=\"T_5050a_level0_col3\" class=\"col_heading level0 col3\" >RMSE</th>\n",
       "      <th id=\"T_5050a_level0_col4\" class=\"col_heading level0 col4\" >R2</th>\n",
       "      <th id=\"T_5050a_level0_col5\" class=\"col_heading level0 col5\" >RMSLE</th>\n",
       "      <th id=\"T_5050a_level0_col6\" class=\"col_heading level0 col6\" >MAPE</th>\n",
       "    </tr>\n",
       "  </thead>\n",
       "  <tbody>\n",
       "    <tr>\n",
       "      <th id=\"T_5050a_level0_row0\" class=\"row_heading level0 row0\" >0</th>\n",
       "      <td id=\"T_5050a_row0_col0\" class=\"data row0 col0\" >Extra Trees Regressor</td>\n",
       "      <td id=\"T_5050a_row0_col1\" class=\"data row0 col1\" >0.0000</td>\n",
       "      <td id=\"T_5050a_row0_col2\" class=\"data row0 col2\" >0.0000</td>\n",
       "      <td id=\"T_5050a_row0_col3\" class=\"data row0 col3\" >0.0000</td>\n",
       "      <td id=\"T_5050a_row0_col4\" class=\"data row0 col4\" >1.0000</td>\n",
       "      <td id=\"T_5050a_row0_col5\" class=\"data row0 col5\" >0.0000</td>\n",
       "      <td id=\"T_5050a_row0_col6\" class=\"data row0 col6\" >0.0000</td>\n",
       "    </tr>\n",
       "  </tbody>\n",
       "</table>\n"
      ],
      "text/plain": [
       "<pandas.io.formats.style.Styler at 0x206cf217850>"
      ]
     },
     "metadata": {},
     "output_type": "display_data"
    }
   ],
   "source": [
    "preds = predict_model(etr)"
   ]
  },
  {
   "cell_type": "markdown",
   "id": "b12ac999",
   "metadata": {},
   "source": [
    "***Accuracy of the Model is 100%***"
   ]
  },
  {
   "cell_type": "code",
   "execution_count": null,
   "id": "5f6d548a",
   "metadata": {},
   "outputs": [],
   "source": []
  }
 ],
 "metadata": {
  "kernelspec": {
   "display_name": "Python 3 (ipykernel)",
   "language": "python",
   "name": "python3"
  },
  "language_info": {
   "codemirror_mode": {
    "name": "ipython",
    "version": 3
   },
   "file_extension": ".py",
   "mimetype": "text/x-python",
   "name": "python",
   "nbconvert_exporter": "python",
   "pygments_lexer": "ipython3",
   "version": "3.9.12"
  }
 },
 "nbformat": 4,
 "nbformat_minor": 5
}
